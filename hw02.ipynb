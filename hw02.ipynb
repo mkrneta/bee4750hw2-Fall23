{
  "cells": [
    {
      "cell_type": "markdown",
      "metadata": {},
      "source": [
        "# BEE 4750 Homework 2: Dissolved Oxygen\n",
        "\n",
        "**Name**:\n",
        "\n",
        "**ID**:\n",
        "\n",
        "> **Due Date**\n",
        ">\n",
        "> Friday, 09/22/23, 9:00pm\n",
        "\n",
        "## Overview\n",
        "\n",
        "### Instructions\n",
        "\n",
        "This assignment asks you to use a simulation model for dissolved oxygen\n",
        "to assess the impacts of two wastewater streams, including minimum\n",
        "treatment levels and the impact of uncertain environmental conditions.\n",
        "You will also be asked to identify a minimum distance for the addition\n",
        "of a third discharge stream.\n",
        "\n",
        "### Load Environment\n",
        "\n",
        "The following code loads the environment and makes sure all needed\n",
        "packages are installed. This should be at the start of most Julia\n",
        "scripts."
      ],
      "id": "ef9aa957-9fca-403e-9a16-d643a4bff437"
    },
    {
      "cell_type": "code",
      "execution_count": 1,
      "metadata": {},
      "outputs": [],
      "source": [
        "import Pkg\n",
        "Pkg.activate(@__DIR__)\n",
        "Pkg.instantiate()"
      ],
      "id": "28de8e89"
    },
    {
      "cell_type": "code",
      "execution_count": 2,
      "metadata": {},
      "outputs": [],
      "source": [
        "using Plots\n",
        "using LaTeXStrings\n",
        "using Distributions"
      ],
      "id": "1f313991"
    },
    {
      "cell_type": "markdown",
      "metadata": {},
      "source": [
        "## Problems (Total: 40 Points)\n",
        "\n",
        "A river which flows at 6 km/d is receiving waste discharges from two\n",
        "sources which are 15 km apart, as shown in\n",
        "<a href=\"#fig-river\" class=\"quarto-xref\">Figure 1</a>. The oxygen\n",
        "reaeration rate is 0.55 day<sup>-1</sup>, and the decay rates of CBOD\n",
        "and NBOD are are 0.55 and 0.25 day<sup>-1</sup>, respectively. The\n",
        "river’s saturated dissolved oxygen concentration is 10m g/L.\n",
        "\n",
        "<figure id=\"fig-river\">\n",
        "<img src=\"attachment:figures/river_diagram.png\" />\n",
        "<figcaption>Figure 1: Schematic of the system</figcaption>\n",
        "</figure>"
      ],
      "attachments": {
        "figures/river_diagram.png": {
          "image/png": "[encoded data removed]"
        }
      },
      "id": "2c259486-1a8b-48d5-a2bc-d595f722056b"
    },
    {
      "cell_type": "markdown",
      "metadata": {},
      "source": [
        "### Problem 1 (8 points)\n",
        "\n",
        "If the characteristics of the river inflow and waste discharges are\n",
        "given in <a href=\"#tbl-river\" class=\"quarto-xref\">Table 1</a>, write a\n",
        "Julia model to compute the dissolved oxygen concentration from the first\n",
        "wastewater discharge to an arbitrary distance `d` km downstream. Use\n",
        "your model to compute the maximum dissolved oxygen concentration up to\n",
        "50km downstream and how far downriver this maximum occurs.\n",
        "\n",
        "|    Parameter     |            River Inflow |         Waste Stream 1 |         Waste Stream 2 |\n",
        "|:----------------:|------------------------:|-----------------------:|-----------------------:|\n",
        "|      Inflow      | 100,000 m<sup>3</sup>/d | 10,000 m<sup>3</sup>/d | 15,000 m<sup>3</sup>/d |\n",
        "| DO Concentration |                7.5 mg/L |                 5 mg/L |                 5 mg/L |\n",
        "|       CBOD       |                  5 mg/L |                50 mg/L |                45 mg/L |\n",
        "|       NBOD       |                  5 mg/L |                35 mg/L |                35 mg/L |\n",
        "\n",
        "Table 1: River inflow and waste stream characteristics for Problem 1."
      ],
      "id": "6358e571-39f3-4474-b3db-0b3a74e50e0e"
    },
    {
      "cell_type": "markdown",
      "metadata": {},
      "source": [
        "### Problem 2 (4 points)\n",
        "\n",
        "Use your model to plot the dissolved oxygen concentration in the river\n",
        "from the first waste stream to 50km downstream. What do you notice?"
      ],
      "id": "61c8f129-3a73-4ede-a47a-311f32958a40"
    },
    {
      "cell_type": "markdown",
      "metadata": {},
      "source": [
        "### Problem 3 (3 points)\n",
        "\n",
        "Under the assumptions of Problem 1, determine the distance from waste\n",
        "stream 2 it will take for the dissolved oxygen concentration of the\n",
        "river to recover to 6 mg/L."
      ],
      "id": "c61a86ec-e6c3-404a-ae77-1f43c8a23b82"
    },
    {
      "cell_type": "markdown",
      "metadata": {},
      "source": [
        "### Problem 4 (5 points)\n",
        "\n",
        "What is the minimum level of treatment (% removal of organic waste) for\n",
        "waste stream 2 that will ensure that the dissolved oxygen concentration\n",
        "never drops below 4 mg/L, assuming that waste stream 1 remains\n",
        "untreated?"
      ],
      "id": "b50a8e8f-4f42-4863-ad56-0118fde16db1"
    },
    {
      "cell_type": "markdown",
      "metadata": {},
      "source": [
        "### Problem 5 (5 points)\n",
        "\n",
        "If both waste streams are treated equally, what is the minimum level of\n",
        "treatment (% removal of organic waste) for the two sources required to\n",
        "ensure that the dissolved oxygen concentration never drops below 4 mg/L?"
      ],
      "id": "afb9a01c-3967-4a00-a28e-263a2b32b8f3"
    },
    {
      "cell_type": "markdown",
      "metadata": {},
      "source": [
        "### Problem 6 (5 points)\n",
        "\n",
        "Suppose you are responsible for designing a waste treatment plan for\n",
        "discharges into the river, with a regulatory mandate to keep the\n",
        "dissolved oxygen concentration above 4 mg/L. Discuss whether you’d opt\n",
        "to treat waste stream 2 alone or both waste streams equally. What other\n",
        "information might you need to make a conclusion, if any?"
      ],
      "id": "5a914acd-034c-41bc-a636-8e1e6273b497"
    },
    {
      "cell_type": "markdown",
      "metadata": {},
      "source": [
        "### Problem 7 (5 points)\n",
        "\n",
        "Suppose that it is known that the DO concentrations at the river inflow\n",
        "can vary uniformly between 6 mg/L and 8 mg/L. How often will the\n",
        "treatment plan identified in Problem 5 (both waste streams treated\n",
        "equally) fail to comply with the regulatory standard?"
      ],
      "id": "4705d8e3-e3e8-4dec-96c6-05082c9fba41"
    },
    {
      "cell_type": "markdown",
      "metadata": {},
      "source": [
        "### Problem 8 (5 points)\n",
        "\n",
        "A factory is planning a third wastewater discharge into the river\n",
        "downstream of the second plant. This discharge would consist of 5\n",
        "m<sup>3</sup>/day of wastewater with a dissolved oxygen content of 4.5\n",
        "mg/L and CBOD and NBOD levels of 50 and 45 mg/L, respectively.\n",
        "\n",
        "Assume that the treatment plan you identified in Problem 5 is still in\n",
        "place for the existing discharges. If the third discharge will not be\n",
        "treated, under the original inflow conditions (7.5 mg/L DO), how far\n",
        "downstream from the second discharge does this third discharge need to\n",
        "be placed to keep the river concentration from dropping below 4 mg/L?"
      ],
      "id": "1ea8ec8b-a9f6-4079-a659-46c6b4839bac"
    },
    {
      "cell_type": "markdown",
      "metadata": {},
      "source": [
        "## References\n",
        "\n",
        "List any external references consulted, including classmates."
      ],
      "id": "82f8e9a4-26cc-4d3d-b704-44d2f6d28784"
    }
  ],
  "nbformat": 4,
  "nbformat_minor": 5,
  "metadata": {
    "kernelspec": {
      "name": "julia-1.9",
      "display_name": "Julia 1.9.3",
      "language": "julia"
    },
    "language_info": {
      "name": "julia",
      "file_extension": ".jl",
      "mimetype": "application/julia",
      "version": "1.9.3"
    }
  }
}